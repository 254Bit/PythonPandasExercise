{
 "cells": [
  {
   "cell_type": "code",
   "execution_count": 3,
   "metadata": {},
   "outputs": [
    {
     "data": {
      "text/html": [
       "<div>\n",
       "<style scoped>\n",
       "    .dataframe tbody tr th:only-of-type {\n",
       "        vertical-align: middle;\n",
       "    }\n",
       "\n",
       "    .dataframe tbody tr th {\n",
       "        vertical-align: top;\n",
       "    }\n",
       "\n",
       "    .dataframe thead th {\n",
       "        text-align: right;\n",
       "    }\n",
       "</style>\n",
       "<table border=\"1\" class=\"dataframe\">\n",
       "  <thead>\n",
       "    <tr style=\"text-align: right;\">\n",
       "      <th></th>\n",
       "      <th>start</th>\n",
       "      <th>end</th>\n",
       "      <th>Interviewer number</th>\n",
       "      <th>Date</th>\n",
       "      <th>Serial number</th>\n",
       "      <th>Facility MFL Code</th>\n",
       "      <th>Health care worker number</th>\n",
       "      <th>1. What is your year of Birth?</th>\n",
       "      <th>2. What is you sex?</th>\n",
       "      <th>3 (a) What is you highest level of training in nursing?</th>\n",
       "      <th>...</th>\n",
       "      <th>_id</th>\n",
       "      <th>_uuid</th>\n",
       "      <th>_submission_time</th>\n",
       "      <th>_validation_status</th>\n",
       "      <th>_notes</th>\n",
       "      <th>_status</th>\n",
       "      <th>_submitted_by</th>\n",
       "      <th>__version__</th>\n",
       "      <th>_tags</th>\n",
       "      <th>_index</th>\n",
       "    </tr>\n",
       "  </thead>\n",
       "  <tbody>\n",
       "    <tr>\n",
       "      <th>0</th>\n",
       "      <td>2024-02-22</td>\n",
       "      <td>2024-02-22</td>\n",
       "      <td>1</td>\n",
       "      <td>2024-02-22</td>\n",
       "      <td>1</td>\n",
       "      <td>11152</td>\n",
       "      <td>1</td>\n",
       "      <td>1995-01-21</td>\n",
       "      <td>Female</td>\n",
       "      <td>Diploma/HND</td>\n",
       "      <td>...</td>\n",
       "      <td>314878194</td>\n",
       "      <td>a06520c7-5979-42de-9dc6-7acbdfe4ee0b</td>\n",
       "      <td>2024-02-22</td>\n",
       "      <td>NaN</td>\n",
       "      <td>NaN</td>\n",
       "      <td>submitted_via_web</td>\n",
       "      <td>NaN</td>\n",
       "      <td>vBGakqMB4iDT55Be34kbSN</td>\n",
       "      <td>NaN</td>\n",
       "      <td>346</td>\n",
       "    </tr>\n",
       "    <tr>\n",
       "      <th>1</th>\n",
       "      <td>2024-02-22</td>\n",
       "      <td>2024-02-22</td>\n",
       "      <td>1</td>\n",
       "      <td>2024-02-22</td>\n",
       "      <td>1</td>\n",
       "      <td>23409</td>\n",
       "      <td>1</td>\n",
       "      <td>1992-04-28</td>\n",
       "      <td>Male</td>\n",
       "      <td>Diploma/HND</td>\n",
       "      <td>...</td>\n",
       "      <td>314887934</td>\n",
       "      <td>8411bfca-05a7-4903-a5fc-01b29bfa6452</td>\n",
       "      <td>2024-02-22</td>\n",
       "      <td>NaN</td>\n",
       "      <td>NaN</td>\n",
       "      <td>submitted_via_web</td>\n",
       "      <td>NaN</td>\n",
       "      <td>vBGakqMB4iDT55Be34kbSN</td>\n",
       "      <td>NaN</td>\n",
       "      <td>347</td>\n",
       "    </tr>\n",
       "    <tr>\n",
       "      <th>2</th>\n",
       "      <td>2024-02-22</td>\n",
       "      <td>2024-02-22</td>\n",
       "      <td>1</td>\n",
       "      <td>2024-02-22</td>\n",
       "      <td>1</td>\n",
       "      <td>23212</td>\n",
       "      <td>1</td>\n",
       "      <td>1996-02-22</td>\n",
       "      <td>Male</td>\n",
       "      <td>Diploma/HND</td>\n",
       "      <td>...</td>\n",
       "      <td>314891683</td>\n",
       "      <td>172d3512-82a2-4eac-859c-65db8a0c0fb0</td>\n",
       "      <td>2024-02-22</td>\n",
       "      <td>NaN</td>\n",
       "      <td>NaN</td>\n",
       "      <td>submitted_via_web</td>\n",
       "      <td>NaN</td>\n",
       "      <td>vBGakqMB4iDT55Be34kbSN</td>\n",
       "      <td>NaN</td>\n",
       "      <td>348</td>\n",
       "    </tr>\n",
       "    <tr>\n",
       "      <th>3</th>\n",
       "      <td>2023-02-02</td>\n",
       "      <td>2024-02-22</td>\n",
       "      <td>1</td>\n",
       "      <td>2024-02-22</td>\n",
       "      <td>1</td>\n",
       "      <td>23408</td>\n",
       "      <td>1</td>\n",
       "      <td>1996-07-07</td>\n",
       "      <td>Male</td>\n",
       "      <td>Diploma/HND</td>\n",
       "      <td>...</td>\n",
       "      <td>314891801</td>\n",
       "      <td>02e4ec13-75be-4b6f-8fde-cafe25a67488</td>\n",
       "      <td>2024-02-22</td>\n",
       "      <td>NaN</td>\n",
       "      <td>NaN</td>\n",
       "      <td>submitted_via_web</td>\n",
       "      <td>NaN</td>\n",
       "      <td>vBGakqMB4iDT55Be34kbSN</td>\n",
       "      <td>NaN</td>\n",
       "      <td>349</td>\n",
       "    </tr>\n",
       "    <tr>\n",
       "      <th>4</th>\n",
       "      <td>2024-02-22</td>\n",
       "      <td>2024-02-22</td>\n",
       "      <td>1</td>\n",
       "      <td>2024-02-22</td>\n",
       "      <td>1</td>\n",
       "      <td>10191</td>\n",
       "      <td>1</td>\n",
       "      <td>1976-05-25</td>\n",
       "      <td>Male</td>\n",
       "      <td>Diploma/HND</td>\n",
       "      <td>...</td>\n",
       "      <td>314892194</td>\n",
       "      <td>dbe62362-5aa2-4525-85de-6632ed188c45</td>\n",
       "      <td>2024-02-22</td>\n",
       "      <td>NaN</td>\n",
       "      <td>NaN</td>\n",
       "      <td>submitted_via_web</td>\n",
       "      <td>NaN</td>\n",
       "      <td>vBGakqMB4iDT55Be34kbSN</td>\n",
       "      <td>NaN</td>\n",
       "      <td>350</td>\n",
       "    </tr>\n",
       "    <tr>\n",
       "      <th>...</th>\n",
       "      <td>...</td>\n",
       "      <td>...</td>\n",
       "      <td>...</td>\n",
       "      <td>...</td>\n",
       "      <td>...</td>\n",
       "      <td>...</td>\n",
       "      <td>...</td>\n",
       "      <td>...</td>\n",
       "      <td>...</td>\n",
       "      <td>...</td>\n",
       "      <td>...</td>\n",
       "      <td>...</td>\n",
       "      <td>...</td>\n",
       "      <td>...</td>\n",
       "      <td>...</td>\n",
       "      <td>...</td>\n",
       "      <td>...</td>\n",
       "      <td>...</td>\n",
       "      <td>...</td>\n",
       "      <td>...</td>\n",
       "      <td>...</td>\n",
       "    </tr>\n",
       "    <tr>\n",
       "      <th>68</th>\n",
       "      <td>2024-02-29</td>\n",
       "      <td>2024-02-29</td>\n",
       "      <td>2</td>\n",
       "      <td>2024-02-29</td>\n",
       "      <td>2</td>\n",
       "      <td>10987</td>\n",
       "      <td>2</td>\n",
       "      <td>1989-03-17</td>\n",
       "      <td>Female</td>\n",
       "      <td>Diploma/HND</td>\n",
       "      <td>...</td>\n",
       "      <td>317265867</td>\n",
       "      <td>06b1cea0-6927-471b-8966-7ecd21b0405d</td>\n",
       "      <td>2024-02-29</td>\n",
       "      <td>NaN</td>\n",
       "      <td>NaN</td>\n",
       "      <td>submitted_via_web</td>\n",
       "      <td>NaN</td>\n",
       "      <td>vBGakqMB4iDT55Be34kbSN</td>\n",
       "      <td>NaN</td>\n",
       "      <td>432</td>\n",
       "    </tr>\n",
       "    <tr>\n",
       "      <th>69</th>\n",
       "      <td>2024-03-01</td>\n",
       "      <td>2024-03-01</td>\n",
       "      <td>2</td>\n",
       "      <td>2024-03-01</td>\n",
       "      <td>2</td>\n",
       "      <td>10987</td>\n",
       "      <td>2</td>\n",
       "      <td>1983-07-15</td>\n",
       "      <td>Male</td>\n",
       "      <td>Diploma/HND</td>\n",
       "      <td>...</td>\n",
       "      <td>317349108</td>\n",
       "      <td>cc27b75c-a2a9-4f1a-bf6b-69f539152546</td>\n",
       "      <td>2024-03-01</td>\n",
       "      <td>NaN</td>\n",
       "      <td>NaN</td>\n",
       "      <td>submitted_via_web</td>\n",
       "      <td>NaN</td>\n",
       "      <td>vBGakqMB4iDT55Be34kbSN</td>\n",
       "      <td>NaN</td>\n",
       "      <td>433</td>\n",
       "    </tr>\n",
       "    <tr>\n",
       "      <th>70</th>\n",
       "      <td>2024-03-01</td>\n",
       "      <td>2024-03-01</td>\n",
       "      <td>2</td>\n",
       "      <td>2024-03-01</td>\n",
       "      <td>2</td>\n",
       "      <td>10454</td>\n",
       "      <td>2</td>\n",
       "      <td>1965-08-25</td>\n",
       "      <td>Male</td>\n",
       "      <td>Diploma/HND</td>\n",
       "      <td>...</td>\n",
       "      <td>317379237</td>\n",
       "      <td>983d7207-73e4-4916-94eb-130d8a59167d</td>\n",
       "      <td>2024-03-01</td>\n",
       "      <td>NaN</td>\n",
       "      <td>NaN</td>\n",
       "      <td>submitted_via_web</td>\n",
       "      <td>NaN</td>\n",
       "      <td>vBGakqMB4iDT55Be34kbSN</td>\n",
       "      <td>NaN</td>\n",
       "      <td>434</td>\n",
       "    </tr>\n",
       "    <tr>\n",
       "      <th>71</th>\n",
       "      <td>2024-03-01</td>\n",
       "      <td>2024-03-01</td>\n",
       "      <td>1</td>\n",
       "      <td>2024-02-29</td>\n",
       "      <td>1</td>\n",
       "      <td>Nyakianga</td>\n",
       "      <td>1</td>\n",
       "      <td>1993-04-10</td>\n",
       "      <td>Female</td>\n",
       "      <td>Diploma/HND</td>\n",
       "      <td>...</td>\n",
       "      <td>317506532</td>\n",
       "      <td>b0f5a5b7-041a-4a90-8cc5-52d4a4a7b5b0</td>\n",
       "      <td>2024-03-01</td>\n",
       "      <td>NaN</td>\n",
       "      <td>NaN</td>\n",
       "      <td>submitted_via_web</td>\n",
       "      <td>NaN</td>\n",
       "      <td>vBGakqMB4iDT55Be34kbSN</td>\n",
       "      <td>NaN</td>\n",
       "      <td>435</td>\n",
       "    </tr>\n",
       "    <tr>\n",
       "      <th>72</th>\n",
       "      <td>2024-02-23</td>\n",
       "      <td>2024-03-01</td>\n",
       "      <td>1</td>\n",
       "      <td>2024-02-23</td>\n",
       "      <td>1</td>\n",
       "      <td>10892</td>\n",
       "      <td>1</td>\n",
       "      <td>1989-05-05</td>\n",
       "      <td>Female</td>\n",
       "      <td>Diploma/HND</td>\n",
       "      <td>...</td>\n",
       "      <td>317516708</td>\n",
       "      <td>b6038dcf-29bc-4da2-a98a-e3d2733ed9fc</td>\n",
       "      <td>2024-03-01</td>\n",
       "      <td>NaN</td>\n",
       "      <td>NaN</td>\n",
       "      <td>submitted_via_web</td>\n",
       "      <td>NaN</td>\n",
       "      <td>vBGakqMB4iDT55Be34kbSN</td>\n",
       "      <td>NaN</td>\n",
       "      <td>436</td>\n",
       "    </tr>\n",
       "  </tbody>\n",
       "</table>\n",
       "<p>73 rows × 54 columns</p>\n",
       "</div>"
      ],
      "text/plain": [
       "         start         end  Interviewer number        Date  Serial number  \\\n",
       "0   2024-02-22  2024-02-22                   1  2024-02-22              1   \n",
       "1   2024-02-22  2024-02-22                   1  2024-02-22              1   \n",
       "2   2024-02-22  2024-02-22                   1  2024-02-22              1   \n",
       "3   2023-02-02  2024-02-22                   1  2024-02-22              1   \n",
       "4   2024-02-22  2024-02-22                   1  2024-02-22              1   \n",
       "..         ...         ...                 ...         ...            ...   \n",
       "68  2024-02-29  2024-02-29                   2  2024-02-29              2   \n",
       "69  2024-03-01  2024-03-01                   2  2024-03-01              2   \n",
       "70  2024-03-01  2024-03-01                   2  2024-03-01              2   \n",
       "71  2024-03-01  2024-03-01                   1  2024-02-29              1   \n",
       "72  2024-02-23  2024-03-01                   1  2024-02-23              1   \n",
       "\n",
       "   Facility MFL Code  Health care worker number  \\\n",
       "0              11152                          1   \n",
       "1              23409                          1   \n",
       "2              23212                          1   \n",
       "3              23408                          1   \n",
       "4              10191                          1   \n",
       "..               ...                        ...   \n",
       "68             10987                          2   \n",
       "69             10987                          2   \n",
       "70             10454                          2   \n",
       "71         Nyakianga                          1   \n",
       "72             10892                          1   \n",
       "\n",
       "   1. What is your year of Birth? 2. What is you sex?  \\\n",
       "0                      1995-01-21              Female   \n",
       "1                      1992-04-28                Male   \n",
       "2                      1996-02-22                Male   \n",
       "3                      1996-07-07                Male   \n",
       "4                      1976-05-25                Male   \n",
       "..                            ...                 ...   \n",
       "68                     1989-03-17              Female   \n",
       "69                     1983-07-15                Male   \n",
       "70                     1965-08-25                Male   \n",
       "71                     1993-04-10              Female   \n",
       "72                     1989-05-05              Female   \n",
       "\n",
       "   3 (a) What is you highest level of training in nursing?  ...        _id  \\\n",
       "0                                         Diploma/HND       ...  314878194   \n",
       "1                                         Diploma/HND       ...  314887934   \n",
       "2                                         Diploma/HND       ...  314891683   \n",
       "3                                         Diploma/HND       ...  314891801   \n",
       "4                                         Diploma/HND       ...  314892194   \n",
       "..                                                ...       ...        ...   \n",
       "68                                        Diploma/HND       ...  317265867   \n",
       "69                                        Diploma/HND       ...  317349108   \n",
       "70                                        Diploma/HND       ...  317379237   \n",
       "71                                        Diploma/HND       ...  317506532   \n",
       "72                                        Diploma/HND       ...  317516708   \n",
       "\n",
       "                                   _uuid _submission_time _validation_status  \\\n",
       "0   a06520c7-5979-42de-9dc6-7acbdfe4ee0b       2024-02-22                NaN   \n",
       "1   8411bfca-05a7-4903-a5fc-01b29bfa6452       2024-02-22                NaN   \n",
       "2   172d3512-82a2-4eac-859c-65db8a0c0fb0       2024-02-22                NaN   \n",
       "3   02e4ec13-75be-4b6f-8fde-cafe25a67488       2024-02-22                NaN   \n",
       "4   dbe62362-5aa2-4525-85de-6632ed188c45       2024-02-22                NaN   \n",
       "..                                   ...              ...                ...   \n",
       "68  06b1cea0-6927-471b-8966-7ecd21b0405d       2024-02-29                NaN   \n",
       "69  cc27b75c-a2a9-4f1a-bf6b-69f539152546       2024-03-01                NaN   \n",
       "70  983d7207-73e4-4916-94eb-130d8a59167d       2024-03-01                NaN   \n",
       "71  b0f5a5b7-041a-4a90-8cc5-52d4a4a7b5b0       2024-03-01                NaN   \n",
       "72  b6038dcf-29bc-4da2-a98a-e3d2733ed9fc       2024-03-01                NaN   \n",
       "\n",
       "    _notes            _status _submitted_by             __version__  _tags  \\\n",
       "0      NaN  submitted_via_web           NaN  vBGakqMB4iDT55Be34kbSN    NaN   \n",
       "1      NaN  submitted_via_web           NaN  vBGakqMB4iDT55Be34kbSN    NaN   \n",
       "2      NaN  submitted_via_web           NaN  vBGakqMB4iDT55Be34kbSN    NaN   \n",
       "3      NaN  submitted_via_web           NaN  vBGakqMB4iDT55Be34kbSN    NaN   \n",
       "4      NaN  submitted_via_web           NaN  vBGakqMB4iDT55Be34kbSN    NaN   \n",
       "..     ...                ...           ...                     ...    ...   \n",
       "68     NaN  submitted_via_web           NaN  vBGakqMB4iDT55Be34kbSN    NaN   \n",
       "69     NaN  submitted_via_web           NaN  vBGakqMB4iDT55Be34kbSN    NaN   \n",
       "70     NaN  submitted_via_web           NaN  vBGakqMB4iDT55Be34kbSN    NaN   \n",
       "71     NaN  submitted_via_web           NaN  vBGakqMB4iDT55Be34kbSN    NaN   \n",
       "72     NaN  submitted_via_web           NaN  vBGakqMB4iDT55Be34kbSN    NaN   \n",
       "\n",
       "   _index  \n",
       "0     346  \n",
       "1     347  \n",
       "2     348  \n",
       "3     349  \n",
       "4     350  \n",
       "..    ...  \n",
       "68    432  \n",
       "69    433  \n",
       "70    434  \n",
       "71    435  \n",
       "72    436  \n",
       "\n",
       "[73 rows x 54 columns]"
      ]
     },
     "execution_count": 3,
     "metadata": {},
     "output_type": "execute_result"
    }
   ],
   "source": [
    "import pandas as pd\n",
    "\n",
    "df = pd.read_csv(\"Health_care_workers.csv\")\n",
    "df\n"
   ]
  },
  {
   "cell_type": "code",
   "execution_count": 4,
   "metadata": {},
   "outputs": [
    {
     "data": {
      "text/html": [
       "<div>\n",
       "<style scoped>\n",
       "    .dataframe tbody tr th:only-of-type {\n",
       "        vertical-align: middle;\n",
       "    }\n",
       "\n",
       "    .dataframe tbody tr th {\n",
       "        vertical-align: top;\n",
       "    }\n",
       "\n",
       "    .dataframe thead th {\n",
       "        text-align: right;\n",
       "    }\n",
       "</style>\n",
       "<table border=\"1\" class=\"dataframe\">\n",
       "  <thead>\n",
       "    <tr style=\"text-align: right;\">\n",
       "      <th></th>\n",
       "      <th>start</th>\n",
       "      <th>end</th>\n",
       "      <th>Interviewer number</th>\n",
       "      <th>Date</th>\n",
       "      <th>Serial number</th>\n",
       "      <th>Facility MFL Code</th>\n",
       "      <th>Health care worker number</th>\n",
       "      <th>1. What is your year of Birth?</th>\n",
       "      <th>2. What is you sex?</th>\n",
       "      <th>3 (a) What is you highest level of training in nursing?</th>\n",
       "      <th>...</th>\n",
       "      <th>_id</th>\n",
       "      <th>_uuid</th>\n",
       "      <th>_submission_time</th>\n",
       "      <th>_validation_status</th>\n",
       "      <th>_notes</th>\n",
       "      <th>_status</th>\n",
       "      <th>_submitted_by</th>\n",
       "      <th>__version__</th>\n",
       "      <th>_tags</th>\n",
       "      <th>_index</th>\n",
       "    </tr>\n",
       "  </thead>\n",
       "  <tbody>\n",
       "    <tr>\n",
       "      <th>0</th>\n",
       "      <td>2024-02-22</td>\n",
       "      <td>2024-02-22</td>\n",
       "      <td>1</td>\n",
       "      <td>2024-02-22</td>\n",
       "      <td>1</td>\n",
       "      <td>11152</td>\n",
       "      <td>1</td>\n",
       "      <td>1995-01-21</td>\n",
       "      <td>Female</td>\n",
       "      <td>Diploma/HND</td>\n",
       "      <td>...</td>\n",
       "      <td>314878194</td>\n",
       "      <td>a06520c7-5979-42de-9dc6-7acbdfe4ee0b</td>\n",
       "      <td>2024-02-22</td>\n",
       "      <td>NaN</td>\n",
       "      <td>NaN</td>\n",
       "      <td>submitted_via_web</td>\n",
       "      <td>NaN</td>\n",
       "      <td>vBGakqMB4iDT55Be34kbSN</td>\n",
       "      <td>NaN</td>\n",
       "      <td>346</td>\n",
       "    </tr>\n",
       "    <tr>\n",
       "      <th>1</th>\n",
       "      <td>2024-02-22</td>\n",
       "      <td>2024-02-22</td>\n",
       "      <td>1</td>\n",
       "      <td>2024-02-22</td>\n",
       "      <td>1</td>\n",
       "      <td>23409</td>\n",
       "      <td>1</td>\n",
       "      <td>1992-04-28</td>\n",
       "      <td>Male</td>\n",
       "      <td>Diploma/HND</td>\n",
       "      <td>...</td>\n",
       "      <td>314887934</td>\n",
       "      <td>8411bfca-05a7-4903-a5fc-01b29bfa6452</td>\n",
       "      <td>2024-02-22</td>\n",
       "      <td>NaN</td>\n",
       "      <td>NaN</td>\n",
       "      <td>submitted_via_web</td>\n",
       "      <td>NaN</td>\n",
       "      <td>vBGakqMB4iDT55Be34kbSN</td>\n",
       "      <td>NaN</td>\n",
       "      <td>347</td>\n",
       "    </tr>\n",
       "    <tr>\n",
       "      <th>2</th>\n",
       "      <td>2024-02-22</td>\n",
       "      <td>2024-02-22</td>\n",
       "      <td>1</td>\n",
       "      <td>2024-02-22</td>\n",
       "      <td>1</td>\n",
       "      <td>23212</td>\n",
       "      <td>1</td>\n",
       "      <td>1996-02-22</td>\n",
       "      <td>Male</td>\n",
       "      <td>Diploma/HND</td>\n",
       "      <td>...</td>\n",
       "      <td>314891683</td>\n",
       "      <td>172d3512-82a2-4eac-859c-65db8a0c0fb0</td>\n",
       "      <td>2024-02-22</td>\n",
       "      <td>NaN</td>\n",
       "      <td>NaN</td>\n",
       "      <td>submitted_via_web</td>\n",
       "      <td>NaN</td>\n",
       "      <td>vBGakqMB4iDT55Be34kbSN</td>\n",
       "      <td>NaN</td>\n",
       "      <td>348</td>\n",
       "    </tr>\n",
       "    <tr>\n",
       "      <th>3</th>\n",
       "      <td>2023-02-02</td>\n",
       "      <td>2024-02-22</td>\n",
       "      <td>1</td>\n",
       "      <td>2024-02-22</td>\n",
       "      <td>1</td>\n",
       "      <td>23408</td>\n",
       "      <td>1</td>\n",
       "      <td>1996-07-07</td>\n",
       "      <td>Male</td>\n",
       "      <td>Diploma/HND</td>\n",
       "      <td>...</td>\n",
       "      <td>314891801</td>\n",
       "      <td>02e4ec13-75be-4b6f-8fde-cafe25a67488</td>\n",
       "      <td>2024-02-22</td>\n",
       "      <td>NaN</td>\n",
       "      <td>NaN</td>\n",
       "      <td>submitted_via_web</td>\n",
       "      <td>NaN</td>\n",
       "      <td>vBGakqMB4iDT55Be34kbSN</td>\n",
       "      <td>NaN</td>\n",
       "      <td>349</td>\n",
       "    </tr>\n",
       "    <tr>\n",
       "      <th>4</th>\n",
       "      <td>2024-02-22</td>\n",
       "      <td>2024-02-22</td>\n",
       "      <td>1</td>\n",
       "      <td>2024-02-22</td>\n",
       "      <td>1</td>\n",
       "      <td>10191</td>\n",
       "      <td>1</td>\n",
       "      <td>1976-05-25</td>\n",
       "      <td>Male</td>\n",
       "      <td>Diploma/HND</td>\n",
       "      <td>...</td>\n",
       "      <td>314892194</td>\n",
       "      <td>dbe62362-5aa2-4525-85de-6632ed188c45</td>\n",
       "      <td>2024-02-22</td>\n",
       "      <td>NaN</td>\n",
       "      <td>NaN</td>\n",
       "      <td>submitted_via_web</td>\n",
       "      <td>NaN</td>\n",
       "      <td>vBGakqMB4iDT55Be34kbSN</td>\n",
       "      <td>NaN</td>\n",
       "      <td>350</td>\n",
       "    </tr>\n",
       "  </tbody>\n",
       "</table>\n",
       "<p>5 rows × 54 columns</p>\n",
       "</div>"
      ],
      "text/plain": [
       "        start         end  Interviewer number        Date  Serial number  \\\n",
       "0  2024-02-22  2024-02-22                   1  2024-02-22              1   \n",
       "1  2024-02-22  2024-02-22                   1  2024-02-22              1   \n",
       "2  2024-02-22  2024-02-22                   1  2024-02-22              1   \n",
       "3  2023-02-02  2024-02-22                   1  2024-02-22              1   \n",
       "4  2024-02-22  2024-02-22                   1  2024-02-22              1   \n",
       "\n",
       "  Facility MFL Code  Health care worker number 1. What is your year of Birth?  \\\n",
       "0             11152                          1                     1995-01-21   \n",
       "1             23409                          1                     1992-04-28   \n",
       "2             23212                          1                     1996-02-22   \n",
       "3             23408                          1                     1996-07-07   \n",
       "4             10191                          1                     1976-05-25   \n",
       "\n",
       "  2. What is you sex? 3 (a) What is you highest level of training in nursing?  \\\n",
       "0              Female                                        Diploma/HND        \n",
       "1                Male                                        Diploma/HND        \n",
       "2                Male                                        Diploma/HND        \n",
       "3                Male                                        Diploma/HND        \n",
       "4                Male                                        Diploma/HND        \n",
       "\n",
       "   ...        _id                                 _uuid _submission_time  \\\n",
       "0  ...  314878194  a06520c7-5979-42de-9dc6-7acbdfe4ee0b       2024-02-22   \n",
       "1  ...  314887934  8411bfca-05a7-4903-a5fc-01b29bfa6452       2024-02-22   \n",
       "2  ...  314891683  172d3512-82a2-4eac-859c-65db8a0c0fb0       2024-02-22   \n",
       "3  ...  314891801  02e4ec13-75be-4b6f-8fde-cafe25a67488       2024-02-22   \n",
       "4  ...  314892194  dbe62362-5aa2-4525-85de-6632ed188c45       2024-02-22   \n",
       "\n",
       "  _validation_status  _notes            _status _submitted_by  \\\n",
       "0                NaN     NaN  submitted_via_web           NaN   \n",
       "1                NaN     NaN  submitted_via_web           NaN   \n",
       "2                NaN     NaN  submitted_via_web           NaN   \n",
       "3                NaN     NaN  submitted_via_web           NaN   \n",
       "4                NaN     NaN  submitted_via_web           NaN   \n",
       "\n",
       "              __version__  _tags _index  \n",
       "0  vBGakqMB4iDT55Be34kbSN    NaN    346  \n",
       "1  vBGakqMB4iDT55Be34kbSN    NaN    347  \n",
       "2  vBGakqMB4iDT55Be34kbSN    NaN    348  \n",
       "3  vBGakqMB4iDT55Be34kbSN    NaN    349  \n",
       "4  vBGakqMB4iDT55Be34kbSN    NaN    350  \n",
       "\n",
       "[5 rows x 54 columns]"
      ]
     },
     "execution_count": 4,
     "metadata": {},
     "output_type": "execute_result"
    }
   ],
   "source": [
    "df.head()"
   ]
  },
  {
   "cell_type": "code",
   "execution_count": 5,
   "metadata": {},
   "outputs": [],
   "source": [
    "df = df.drop('start', axis = 1)"
   ]
  },
  {
   "cell_type": "code",
   "execution_count": 6,
   "metadata": {},
   "outputs": [],
   "source": [
    "df = df.drop('end', axis = 1)"
   ]
  },
  {
   "cell_type": "code",
   "execution_count": 7,
   "metadata": {},
   "outputs": [
    {
     "data": {
      "text/html": [
       "<div>\n",
       "<style scoped>\n",
       "    .dataframe tbody tr th:only-of-type {\n",
       "        vertical-align: middle;\n",
       "    }\n",
       "\n",
       "    .dataframe tbody tr th {\n",
       "        vertical-align: top;\n",
       "    }\n",
       "\n",
       "    .dataframe thead th {\n",
       "        text-align: right;\n",
       "    }\n",
       "</style>\n",
       "<table border=\"1\" class=\"dataframe\">\n",
       "  <thead>\n",
       "    <tr style=\"text-align: right;\">\n",
       "      <th></th>\n",
       "      <th>Interviewer number</th>\n",
       "      <th>Date</th>\n",
       "      <th>Serial number</th>\n",
       "      <th>Facility MFL Code</th>\n",
       "      <th>Health care worker number</th>\n",
       "      <th>1. What is your year of Birth?</th>\n",
       "      <th>2. What is you sex?</th>\n",
       "      <th>3 (a) What is you highest level of training in nursing?</th>\n",
       "      <th>(b) Year of qualification</th>\n",
       "      <th>4. (a) Have you received any training in oral health (seminar, workshop, webinar)?</th>\n",
       "      <th>...</th>\n",
       "      <th>_id</th>\n",
       "      <th>_uuid</th>\n",
       "      <th>_submission_time</th>\n",
       "      <th>_validation_status</th>\n",
       "      <th>_notes</th>\n",
       "      <th>_status</th>\n",
       "      <th>_submitted_by</th>\n",
       "      <th>__version__</th>\n",
       "      <th>_tags</th>\n",
       "      <th>_index</th>\n",
       "    </tr>\n",
       "  </thead>\n",
       "  <tbody>\n",
       "    <tr>\n",
       "      <th>0</th>\n",
       "      <td>1</td>\n",
       "      <td>2024-02-22</td>\n",
       "      <td>1</td>\n",
       "      <td>11152</td>\n",
       "      <td>1</td>\n",
       "      <td>1995-01-21</td>\n",
       "      <td>Female</td>\n",
       "      <td>Diploma/HND</td>\n",
       "      <td>2017-04-30</td>\n",
       "      <td>Yes</td>\n",
       "      <td>...</td>\n",
       "      <td>314878194</td>\n",
       "      <td>a06520c7-5979-42de-9dc6-7acbdfe4ee0b</td>\n",
       "      <td>2024-02-22</td>\n",
       "      <td>NaN</td>\n",
       "      <td>NaN</td>\n",
       "      <td>submitted_via_web</td>\n",
       "      <td>NaN</td>\n",
       "      <td>vBGakqMB4iDT55Be34kbSN</td>\n",
       "      <td>NaN</td>\n",
       "      <td>346</td>\n",
       "    </tr>\n",
       "    <tr>\n",
       "      <th>1</th>\n",
       "      <td>1</td>\n",
       "      <td>2024-02-22</td>\n",
       "      <td>1</td>\n",
       "      <td>23409</td>\n",
       "      <td>1</td>\n",
       "      <td>1992-04-28</td>\n",
       "      <td>Male</td>\n",
       "      <td>Diploma/HND</td>\n",
       "      <td>2015-08-28</td>\n",
       "      <td>Yes</td>\n",
       "      <td>...</td>\n",
       "      <td>314887934</td>\n",
       "      <td>8411bfca-05a7-4903-a5fc-01b29bfa6452</td>\n",
       "      <td>2024-02-22</td>\n",
       "      <td>NaN</td>\n",
       "      <td>NaN</td>\n",
       "      <td>submitted_via_web</td>\n",
       "      <td>NaN</td>\n",
       "      <td>vBGakqMB4iDT55Be34kbSN</td>\n",
       "      <td>NaN</td>\n",
       "      <td>347</td>\n",
       "    </tr>\n",
       "    <tr>\n",
       "      <th>2</th>\n",
       "      <td>1</td>\n",
       "      <td>2024-02-22</td>\n",
       "      <td>1</td>\n",
       "      <td>23212</td>\n",
       "      <td>1</td>\n",
       "      <td>1996-02-22</td>\n",
       "      <td>Male</td>\n",
       "      <td>Diploma/HND</td>\n",
       "      <td>2014-02-22</td>\n",
       "      <td>Yes</td>\n",
       "      <td>...</td>\n",
       "      <td>314891683</td>\n",
       "      <td>172d3512-82a2-4eac-859c-65db8a0c0fb0</td>\n",
       "      <td>2024-02-22</td>\n",
       "      <td>NaN</td>\n",
       "      <td>NaN</td>\n",
       "      <td>submitted_via_web</td>\n",
       "      <td>NaN</td>\n",
       "      <td>vBGakqMB4iDT55Be34kbSN</td>\n",
       "      <td>NaN</td>\n",
       "      <td>348</td>\n",
       "    </tr>\n",
       "    <tr>\n",
       "      <th>3</th>\n",
       "      <td>1</td>\n",
       "      <td>2024-02-22</td>\n",
       "      <td>1</td>\n",
       "      <td>23408</td>\n",
       "      <td>1</td>\n",
       "      <td>1996-07-07</td>\n",
       "      <td>Male</td>\n",
       "      <td>Diploma/HND</td>\n",
       "      <td>2019-12-05</td>\n",
       "      <td>Yes</td>\n",
       "      <td>...</td>\n",
       "      <td>314891801</td>\n",
       "      <td>02e4ec13-75be-4b6f-8fde-cafe25a67488</td>\n",
       "      <td>2024-02-22</td>\n",
       "      <td>NaN</td>\n",
       "      <td>NaN</td>\n",
       "      <td>submitted_via_web</td>\n",
       "      <td>NaN</td>\n",
       "      <td>vBGakqMB4iDT55Be34kbSN</td>\n",
       "      <td>NaN</td>\n",
       "      <td>349</td>\n",
       "    </tr>\n",
       "    <tr>\n",
       "      <th>4</th>\n",
       "      <td>1</td>\n",
       "      <td>2024-02-22</td>\n",
       "      <td>1</td>\n",
       "      <td>10191</td>\n",
       "      <td>1</td>\n",
       "      <td>1976-05-25</td>\n",
       "      <td>Male</td>\n",
       "      <td>Diploma/HND</td>\n",
       "      <td>2002-09-30</td>\n",
       "      <td>Yes</td>\n",
       "      <td>...</td>\n",
       "      <td>314892194</td>\n",
       "      <td>dbe62362-5aa2-4525-85de-6632ed188c45</td>\n",
       "      <td>2024-02-22</td>\n",
       "      <td>NaN</td>\n",
       "      <td>NaN</td>\n",
       "      <td>submitted_via_web</td>\n",
       "      <td>NaN</td>\n",
       "      <td>vBGakqMB4iDT55Be34kbSN</td>\n",
       "      <td>NaN</td>\n",
       "      <td>350</td>\n",
       "    </tr>\n",
       "  </tbody>\n",
       "</table>\n",
       "<p>5 rows × 52 columns</p>\n",
       "</div>"
      ],
      "text/plain": [
       "   Interviewer number        Date  Serial number Facility MFL Code  \\\n",
       "0                   1  2024-02-22              1             11152   \n",
       "1                   1  2024-02-22              1             23409   \n",
       "2                   1  2024-02-22              1             23212   \n",
       "3                   1  2024-02-22              1             23408   \n",
       "4                   1  2024-02-22              1             10191   \n",
       "\n",
       "   Health care worker number 1. What is your year of Birth?  \\\n",
       "0                          1                     1995-01-21   \n",
       "1                          1                     1992-04-28   \n",
       "2                          1                     1996-02-22   \n",
       "3                          1                     1996-07-07   \n",
       "4                          1                     1976-05-25   \n",
       "\n",
       "  2. What is you sex? 3 (a) What is you highest level of training in nursing?  \\\n",
       "0              Female                                        Diploma/HND        \n",
       "1                Male                                        Diploma/HND        \n",
       "2                Male                                        Diploma/HND        \n",
       "3                Male                                        Diploma/HND        \n",
       "4                Male                                        Diploma/HND        \n",
       "\n",
       "  (b) Year of qualification  \\\n",
       "0                2017-04-30   \n",
       "1                2015-08-28   \n",
       "2                2014-02-22   \n",
       "3                2019-12-05   \n",
       "4                2002-09-30   \n",
       "\n",
       "  4. (a) Have you received any training in oral health (seminar, workshop, webinar)?  \\\n",
       "0                                                Yes                                   \n",
       "1                                                Yes                                   \n",
       "2                                                Yes                                   \n",
       "3                                                Yes                                   \n",
       "4                                                Yes                                   \n",
       "\n",
       "   ...        _id                                 _uuid  _submission_time  \\\n",
       "0  ...  314878194  a06520c7-5979-42de-9dc6-7acbdfe4ee0b        2024-02-22   \n",
       "1  ...  314887934  8411bfca-05a7-4903-a5fc-01b29bfa6452        2024-02-22   \n",
       "2  ...  314891683  172d3512-82a2-4eac-859c-65db8a0c0fb0        2024-02-22   \n",
       "3  ...  314891801  02e4ec13-75be-4b6f-8fde-cafe25a67488        2024-02-22   \n",
       "4  ...  314892194  dbe62362-5aa2-4525-85de-6632ed188c45        2024-02-22   \n",
       "\n",
       "   _validation_status _notes            _status  _submitted_by  \\\n",
       "0                 NaN    NaN  submitted_via_web            NaN   \n",
       "1                 NaN    NaN  submitted_via_web            NaN   \n",
       "2                 NaN    NaN  submitted_via_web            NaN   \n",
       "3                 NaN    NaN  submitted_via_web            NaN   \n",
       "4                 NaN    NaN  submitted_via_web            NaN   \n",
       "\n",
       "              __version__ _tags _index  \n",
       "0  vBGakqMB4iDT55Be34kbSN   NaN    346  \n",
       "1  vBGakqMB4iDT55Be34kbSN   NaN    347  \n",
       "2  vBGakqMB4iDT55Be34kbSN   NaN    348  \n",
       "3  vBGakqMB4iDT55Be34kbSN   NaN    349  \n",
       "4  vBGakqMB4iDT55Be34kbSN   NaN    350  \n",
       "\n",
       "[5 rows x 52 columns]"
      ]
     },
     "execution_count": 7,
     "metadata": {},
     "output_type": "execute_result"
    }
   ],
   "source": [
    "df.head()"
   ]
  },
  {
   "cell_type": "code",
   "execution_count": 8,
   "metadata": {},
   "outputs": [
    {
     "data": {
      "text/html": [
       "<div>\n",
       "<style scoped>\n",
       "    .dataframe tbody tr th:only-of-type {\n",
       "        vertical-align: middle;\n",
       "    }\n",
       "\n",
       "    .dataframe tbody tr th {\n",
       "        vertical-align: top;\n",
       "    }\n",
       "\n",
       "    .dataframe thead th {\n",
       "        text-align: right;\n",
       "    }\n",
       "</style>\n",
       "<table border=\"1\" class=\"dataframe\">\n",
       "  <thead>\n",
       "    <tr style=\"text-align: right;\">\n",
       "      <th></th>\n",
       "      <th>Interviewer number</th>\n",
       "      <th>Serial number</th>\n",
       "      <th>Health care worker number</th>\n",
       "      <th>(d) Why have you not received any training?</th>\n",
       "      <th>(Please tick the MOST applicable against the choices given)</th>\n",
       "      <th>7. How many deciduous teeth are there in total?</th>\n",
       "      <th>How would you rate your ability to perform the following dental services? (please use a tick corresponding to the scale provided)</th>\n",
       "      <th>THANK YOU FOR YOUR TIME</th>\n",
       "      <th>_id</th>\n",
       "      <th>_validation_status</th>\n",
       "      <th>_notes</th>\n",
       "      <th>_submitted_by</th>\n",
       "      <th>_tags</th>\n",
       "      <th>_index</th>\n",
       "    </tr>\n",
       "  </thead>\n",
       "  <tbody>\n",
       "    <tr>\n",
       "      <th>count</th>\n",
       "      <td>73.000000</td>\n",
       "      <td>73.000000</td>\n",
       "      <td>73.000000</td>\n",
       "      <td>0.0</td>\n",
       "      <td>0.0</td>\n",
       "      <td>73.000000</td>\n",
       "      <td>0.0</td>\n",
       "      <td>0.0</td>\n",
       "      <td>7.300000e+01</td>\n",
       "      <td>0.0</td>\n",
       "      <td>0.0</td>\n",
       "      <td>0.0</td>\n",
       "      <td>0.0</td>\n",
       "      <td>73.000000</td>\n",
       "    </tr>\n",
       "    <tr>\n",
       "      <th>mean</th>\n",
       "      <td>1.465753</td>\n",
       "      <td>1.465753</td>\n",
       "      <td>1.465753</td>\n",
       "      <td>NaN</td>\n",
       "      <td>NaN</td>\n",
       "      <td>20.301370</td>\n",
       "      <td>NaN</td>\n",
       "      <td>NaN</td>\n",
       "      <td>3.162401e+08</td>\n",
       "      <td>NaN</td>\n",
       "      <td>NaN</td>\n",
       "      <td>NaN</td>\n",
       "      <td>NaN</td>\n",
       "      <td>388.191781</td>\n",
       "    </tr>\n",
       "    <tr>\n",
       "      <th>std</th>\n",
       "      <td>0.502278</td>\n",
       "      <td>0.502278</td>\n",
       "      <td>0.502278</td>\n",
       "      <td>NaN</td>\n",
       "      <td>NaN</td>\n",
       "      <td>3.103246</td>\n",
       "      <td>NaN</td>\n",
       "      <td>NaN</td>\n",
       "      <td>1.038726e+06</td>\n",
       "      <td>NaN</td>\n",
       "      <td>NaN</td>\n",
       "      <td>NaN</td>\n",
       "      <td>NaN</td>\n",
       "      <td>26.526013</td>\n",
       "    </tr>\n",
       "    <tr>\n",
       "      <th>min</th>\n",
       "      <td>1.000000</td>\n",
       "      <td>1.000000</td>\n",
       "      <td>1.000000</td>\n",
       "      <td>NaN</td>\n",
       "      <td>NaN</td>\n",
       "      <td>10.000000</td>\n",
       "      <td>NaN</td>\n",
       "      <td>NaN</td>\n",
       "      <td>3.148782e+08</td>\n",
       "      <td>NaN</td>\n",
       "      <td>NaN</td>\n",
       "      <td>NaN</td>\n",
       "      <td>NaN</td>\n",
       "      <td>346.000000</td>\n",
       "    </tr>\n",
       "    <tr>\n",
       "      <th>25%</th>\n",
       "      <td>1.000000</td>\n",
       "      <td>1.000000</td>\n",
       "      <td>1.000000</td>\n",
       "      <td>NaN</td>\n",
       "      <td>NaN</td>\n",
       "      <td>20.000000</td>\n",
       "      <td>NaN</td>\n",
       "      <td>NaN</td>\n",
       "      <td>3.149743e+08</td>\n",
       "      <td>NaN</td>\n",
       "      <td>NaN</td>\n",
       "      <td>NaN</td>\n",
       "      <td>NaN</td>\n",
       "      <td>364.000000</td>\n",
       "    </tr>\n",
       "    <tr>\n",
       "      <th>50%</th>\n",
       "      <td>1.000000</td>\n",
       "      <td>1.000000</td>\n",
       "      <td>1.000000</td>\n",
       "      <td>NaN</td>\n",
       "      <td>NaN</td>\n",
       "      <td>20.000000</td>\n",
       "      <td>NaN</td>\n",
       "      <td>NaN</td>\n",
       "      <td>3.170196e+08</td>\n",
       "      <td>NaN</td>\n",
       "      <td>NaN</td>\n",
       "      <td>NaN</td>\n",
       "      <td>NaN</td>\n",
       "      <td>388.000000</td>\n",
       "    </tr>\n",
       "    <tr>\n",
       "      <th>75%</th>\n",
       "      <td>2.000000</td>\n",
       "      <td>2.000000</td>\n",
       "      <td>2.000000</td>\n",
       "      <td>NaN</td>\n",
       "      <td>NaN</td>\n",
       "      <td>20.000000</td>\n",
       "      <td>NaN</td>\n",
       "      <td>NaN</td>\n",
       "      <td>3.170491e+08</td>\n",
       "      <td>NaN</td>\n",
       "      <td>NaN</td>\n",
       "      <td>NaN</td>\n",
       "      <td>NaN</td>\n",
       "      <td>409.000000</td>\n",
       "    </tr>\n",
       "    <tr>\n",
       "      <th>max</th>\n",
       "      <td>2.000000</td>\n",
       "      <td>2.000000</td>\n",
       "      <td>2.000000</td>\n",
       "      <td>NaN</td>\n",
       "      <td>NaN</td>\n",
       "      <td>32.000000</td>\n",
       "      <td>NaN</td>\n",
       "      <td>NaN</td>\n",
       "      <td>3.175167e+08</td>\n",
       "      <td>NaN</td>\n",
       "      <td>NaN</td>\n",
       "      <td>NaN</td>\n",
       "      <td>NaN</td>\n",
       "      <td>436.000000</td>\n",
       "    </tr>\n",
       "  </tbody>\n",
       "</table>\n",
       "</div>"
      ],
      "text/plain": [
       "       Interviewer number  Serial number  Health care worker number  \\\n",
       "count           73.000000      73.000000                  73.000000   \n",
       "mean             1.465753       1.465753                   1.465753   \n",
       "std              0.502278       0.502278                   0.502278   \n",
       "min              1.000000       1.000000                   1.000000   \n",
       "25%              1.000000       1.000000                   1.000000   \n",
       "50%              1.000000       1.000000                   1.000000   \n",
       "75%              2.000000       2.000000                   2.000000   \n",
       "max              2.000000       2.000000                   2.000000   \n",
       "\n",
       "       (d) Why have you not received any training?  \\\n",
       "count                                          0.0   \n",
       "mean                                           NaN   \n",
       "std                                            NaN   \n",
       "min                                            NaN   \n",
       "25%                                            NaN   \n",
       "50%                                            NaN   \n",
       "75%                                            NaN   \n",
       "max                                            NaN   \n",
       "\n",
       "       (Please tick the MOST applicable against the choices given)  \\\n",
       "count                                                0.0             \n",
       "mean                                                 NaN             \n",
       "std                                                  NaN             \n",
       "min                                                  NaN             \n",
       "25%                                                  NaN             \n",
       "50%                                                  NaN             \n",
       "75%                                                  NaN             \n",
       "max                                                  NaN             \n",
       "\n",
       "       7. How many deciduous teeth are there in total?  \\\n",
       "count                                        73.000000   \n",
       "mean                                         20.301370   \n",
       "std                                           3.103246   \n",
       "min                                          10.000000   \n",
       "25%                                          20.000000   \n",
       "50%                                          20.000000   \n",
       "75%                                          20.000000   \n",
       "max                                          32.000000   \n",
       "\n",
       "       How would you rate your ability to perform the following dental services? (please use a tick corresponding to the scale provided)  \\\n",
       "count                                                0.0                                                                                   \n",
       "mean                                                 NaN                                                                                   \n",
       "std                                                  NaN                                                                                   \n",
       "min                                                  NaN                                                                                   \n",
       "25%                                                  NaN                                                                                   \n",
       "50%                                                  NaN                                                                                   \n",
       "75%                                                  NaN                                                                                   \n",
       "max                                                  NaN                                                                                   \n",
       "\n",
       "       THANK YOU FOR YOUR TIME           _id  _validation_status  _notes  \\\n",
       "count                      0.0  7.300000e+01                 0.0     0.0   \n",
       "mean                       NaN  3.162401e+08                 NaN     NaN   \n",
       "std                        NaN  1.038726e+06                 NaN     NaN   \n",
       "min                        NaN  3.148782e+08                 NaN     NaN   \n",
       "25%                        NaN  3.149743e+08                 NaN     NaN   \n",
       "50%                        NaN  3.170196e+08                 NaN     NaN   \n",
       "75%                        NaN  3.170491e+08                 NaN     NaN   \n",
       "max                        NaN  3.175167e+08                 NaN     NaN   \n",
       "\n",
       "       _submitted_by  _tags      _index  \n",
       "count            0.0    0.0   73.000000  \n",
       "mean             NaN    NaN  388.191781  \n",
       "std              NaN    NaN   26.526013  \n",
       "min              NaN    NaN  346.000000  \n",
       "25%              NaN    NaN  364.000000  \n",
       "50%              NaN    NaN  388.000000  \n",
       "75%              NaN    NaN  409.000000  \n",
       "max              NaN    NaN  436.000000  "
      ]
     },
     "execution_count": 8,
     "metadata": {},
     "output_type": "execute_result"
    }
   ],
   "source": [
    "df.describe()"
   ]
  },
  {
   "cell_type": "code",
   "execution_count": 9,
   "metadata": {},
   "outputs": [
    {
     "name": "stdout",
     "output_type": "stream",
     "text": [
      "<class 'pandas.core.frame.DataFrame'>\n",
      "RangeIndex: 73 entries, 0 to 72\n",
      "Data columns (total 52 columns):\n",
      " #   Column                                                                                                                             Non-Null Count  Dtype  \n",
      "---  ------                                                                                                                             --------------  -----  \n",
      " 0   Interviewer number                                                                                                                 73 non-null     int64  \n",
      " 1   Date                                                                                                                               73 non-null     object \n",
      " 2   Serial number                                                                                                                      73 non-null     int64  \n",
      " 3   Facility MFL Code                                                                                                                  73 non-null     object \n",
      " 4   Health care worker number                                                                                                          73 non-null     int64  \n",
      " 5   1. What is your year of Birth?                                                                                                     73 non-null     object \n",
      " 6   2. What is you sex?                                                                                                                73 non-null     object \n",
      " 7   3 (a) What is you highest level of training in nursing?                                                                            73 non-null     object \n",
      " 8   (b) Year of qualification                                                                                                          73 non-null     object \n",
      " 9   4. (a) Have you received any training in oral health (seminar, workshop, webinar)?                                                 73 non-null     object \n",
      " 10  (b) When (year) was the last training you received?                                                                                73 non-null     object \n",
      " 11  (c) What topic(s) were covered in the training?                                                                                    73 non-null     object \n",
      " 12  (d) Why have you not received any training?                                                                                        0 non-null      float64\n",
      " 13  (Please tick the MOST applicable against the choices given)                                                                        0 non-null      float64\n",
      " 14  5. What is the expected eruption age for first tooth in children?                                                                  73 non-null     object \n",
      " 15  6. Which of the following are associated with teeth eruption?                                                                      73 non-null     object \n",
      " 16  7. How many deciduous teeth are there in total?                                                                                    73 non-null     int64  \n",
      " 17  8. When should one start cleaning a child’s teeth?                                                                                 73 non-null     object \n",
      " 18  9. What is the best suited to clean children teeth?                                                                                73 non-null     object \n",
      " 19  10. The following are risk factors for dental caries in children except?                                                           73 non-null     object \n",
      " 20  11. The following are indicators of dental decay EXCEPT?                                                                           73 non-null     object \n",
      " 21  12. The following can cause gum disease or mucosal lesions in childhood EXCEPT?                                                    73 non-null     object \n",
      " 22  13. Which of the following condition can manifest in the oral cavity?                                                              73 non-null     object \n",
      " 23  14. Which of the following are manifestations of HIV/AIDS in the oral cavity?                                                      73 non-null     object \n",
      " 24  15. Which is the recommended toothpaste for children?                                                                              73 non-null     object \n",
      " 25  16. Which of following is NOT true about recording and reporting childhood dental disease?                                         73 non-null     object \n",
      " 26  17. Which of the following is TRUE about a tongue tie?                                                                             73 non-null     object \n",
      " 27  18. Harmful traditional practices include the following EXCEPT?                                                                    73 non-null     object \n",
      " 28  19. What is the recommended frequency of tooth brushing for children?                                                              73 non-null     object \n",
      " 29  20. When should a child be the first visiting to a dentist?                                                                        73 non-null     object \n",
      " 30  How would you rate your ability to perform the following dental services? (please use a tick corresponding to the scale provided)  0 non-null      float64\n",
      " 31  21. Provide oral health education to parents                                                                                       73 non-null     object \n",
      " 32  22. Examine the child mouth                                                                                                        73 non-null     object \n",
      " 33  23. Identify dental caries in children                                                                                             73 non-null     object \n",
      " 34  24. Identify gum diseases in children                                                                                              73 non-null     object \n",
      " 35  25. Identify oral lesions in children                                                                                              73 non-null     object \n",
      " 36  26. Management of oral pain (emergency) in children                                                                                72 non-null     object \n",
      " 37  27. Referral children for dental services                                                                                          73 non-null     object \n",
      " 38  28. Capture dental service in the daily activity register                                                                          73 non-null     object \n",
      " 39  29. Report dental service/condition in the reporting tool                                                                          73 non-null     object \n",
      " 40  30. Record child oral health information in the mother child booklet                                                               72 non-null     object \n",
      " 41  THANK YOU FOR YOUR TIME                                                                                                            0 non-null      float64\n",
      " 42  _id                                                                                                                                73 non-null     int64  \n",
      " 43  _uuid                                                                                                                              73 non-null     object \n",
      " 44  _submission_time                                                                                                                   73 non-null     object \n",
      " 45  _validation_status                                                                                                                 0 non-null      float64\n",
      " 46  _notes                                                                                                                             0 non-null      float64\n",
      " 47  _status                                                                                                                            73 non-null     object \n",
      " 48  _submitted_by                                                                                                                      0 non-null      float64\n",
      " 49  __version__                                                                                                                        73 non-null     object \n",
      " 50  _tags                                                                                                                              0 non-null      float64\n",
      " 51  _index                                                                                                                             73 non-null     int64  \n",
      "dtypes: float64(8), int64(6), object(38)\n",
      "memory usage: 29.8+ KB\n"
     ]
    }
   ],
   "source": [
    "df.info()"
   ]
  },
  {
   "cell_type": "code",
   "execution_count": 10,
   "metadata": {},
   "outputs": [
    {
     "data": {
      "text/plain": [
       "2. What is you sex?\n",
       "Female    55\n",
       "Male      18\n",
       "Name: count, dtype: int64"
      ]
     },
     "execution_count": 10,
     "metadata": {},
     "output_type": "execute_result"
    }
   ],
   "source": [
    "# Total number of Males Vs Females\n",
    "\n",
    "# How many times each value is repeated in a given dataset\n",
    "df['2. What is you sex?'].value_counts()"
   ]
  },
  {
   "cell_type": "code",
   "execution_count": 11,
   "metadata": {},
   "outputs": [
    {
     "data": {
      "text/plain": [
       "3 (a) What is you highest level of training in nursing?\n",
       "Diploma/HND    62\n",
       "Certificate     6\n",
       "Bachelors       5\n",
       "Name: count, dtype: int64"
      ]
     },
     "execution_count": 11,
     "metadata": {},
     "output_type": "execute_result"
    }
   ],
   "source": [
    "# 3 (a) What is you highest level of training in nursing?\n",
    "df['3 (a) What is you highest level of training in nursing?'].value_counts()\n"
   ]
  },
  {
   "cell_type": "code",
   "execution_count": 12,
   "metadata": {},
   "outputs": [],
   "source": [
    "df = df.rename(columns = {'3 (a) What is you highest level of training in nursing?': 'HighestLevelTraining','(b) Year of qualification':'YearQualified'})"
   ]
  },
  {
   "cell_type": "code",
   "execution_count": 13,
   "metadata": {},
   "outputs": [
    {
     "data": {
      "text/html": [
       "<div>\n",
       "<style scoped>\n",
       "    .dataframe tbody tr th:only-of-type {\n",
       "        vertical-align: middle;\n",
       "    }\n",
       "\n",
       "    .dataframe tbody tr th {\n",
       "        vertical-align: top;\n",
       "    }\n",
       "\n",
       "    .dataframe thead th {\n",
       "        text-align: right;\n",
       "    }\n",
       "</style>\n",
       "<table border=\"1\" class=\"dataframe\">\n",
       "  <thead>\n",
       "    <tr style=\"text-align: right;\">\n",
       "      <th></th>\n",
       "      <th>Interviewer number</th>\n",
       "      <th>Date</th>\n",
       "      <th>Serial number</th>\n",
       "      <th>Facility MFL Code</th>\n",
       "      <th>Health care worker number</th>\n",
       "      <th>1. What is your year of Birth?</th>\n",
       "      <th>2. What is you sex?</th>\n",
       "      <th>HighestLevelTraining</th>\n",
       "      <th>YearQualified</th>\n",
       "      <th>4. (a) Have you received any training in oral health (seminar, workshop, webinar)?</th>\n",
       "      <th>...</th>\n",
       "      <th>_id</th>\n",
       "      <th>_uuid</th>\n",
       "      <th>_submission_time</th>\n",
       "      <th>_validation_status</th>\n",
       "      <th>_notes</th>\n",
       "      <th>_status</th>\n",
       "      <th>_submitted_by</th>\n",
       "      <th>__version__</th>\n",
       "      <th>_tags</th>\n",
       "      <th>_index</th>\n",
       "    </tr>\n",
       "  </thead>\n",
       "  <tbody>\n",
       "    <tr>\n",
       "      <th>0</th>\n",
       "      <td>1</td>\n",
       "      <td>2024-02-22</td>\n",
       "      <td>1</td>\n",
       "      <td>11152</td>\n",
       "      <td>1</td>\n",
       "      <td>1995-01-21</td>\n",
       "      <td>Female</td>\n",
       "      <td>Diploma/HND</td>\n",
       "      <td>2017-04-30</td>\n",
       "      <td>Yes</td>\n",
       "      <td>...</td>\n",
       "      <td>314878194</td>\n",
       "      <td>a06520c7-5979-42de-9dc6-7acbdfe4ee0b</td>\n",
       "      <td>2024-02-22</td>\n",
       "      <td>NaN</td>\n",
       "      <td>NaN</td>\n",
       "      <td>submitted_via_web</td>\n",
       "      <td>NaN</td>\n",
       "      <td>vBGakqMB4iDT55Be34kbSN</td>\n",
       "      <td>NaN</td>\n",
       "      <td>346</td>\n",
       "    </tr>\n",
       "    <tr>\n",
       "      <th>1</th>\n",
       "      <td>1</td>\n",
       "      <td>2024-02-22</td>\n",
       "      <td>1</td>\n",
       "      <td>23409</td>\n",
       "      <td>1</td>\n",
       "      <td>1992-04-28</td>\n",
       "      <td>Male</td>\n",
       "      <td>Diploma/HND</td>\n",
       "      <td>2015-08-28</td>\n",
       "      <td>Yes</td>\n",
       "      <td>...</td>\n",
       "      <td>314887934</td>\n",
       "      <td>8411bfca-05a7-4903-a5fc-01b29bfa6452</td>\n",
       "      <td>2024-02-22</td>\n",
       "      <td>NaN</td>\n",
       "      <td>NaN</td>\n",
       "      <td>submitted_via_web</td>\n",
       "      <td>NaN</td>\n",
       "      <td>vBGakqMB4iDT55Be34kbSN</td>\n",
       "      <td>NaN</td>\n",
       "      <td>347</td>\n",
       "    </tr>\n",
       "    <tr>\n",
       "      <th>2</th>\n",
       "      <td>1</td>\n",
       "      <td>2024-02-22</td>\n",
       "      <td>1</td>\n",
       "      <td>23212</td>\n",
       "      <td>1</td>\n",
       "      <td>1996-02-22</td>\n",
       "      <td>Male</td>\n",
       "      <td>Diploma/HND</td>\n",
       "      <td>2014-02-22</td>\n",
       "      <td>Yes</td>\n",
       "      <td>...</td>\n",
       "      <td>314891683</td>\n",
       "      <td>172d3512-82a2-4eac-859c-65db8a0c0fb0</td>\n",
       "      <td>2024-02-22</td>\n",
       "      <td>NaN</td>\n",
       "      <td>NaN</td>\n",
       "      <td>submitted_via_web</td>\n",
       "      <td>NaN</td>\n",
       "      <td>vBGakqMB4iDT55Be34kbSN</td>\n",
       "      <td>NaN</td>\n",
       "      <td>348</td>\n",
       "    </tr>\n",
       "    <tr>\n",
       "      <th>3</th>\n",
       "      <td>1</td>\n",
       "      <td>2024-02-22</td>\n",
       "      <td>1</td>\n",
       "      <td>23408</td>\n",
       "      <td>1</td>\n",
       "      <td>1996-07-07</td>\n",
       "      <td>Male</td>\n",
       "      <td>Diploma/HND</td>\n",
       "      <td>2019-12-05</td>\n",
       "      <td>Yes</td>\n",
       "      <td>...</td>\n",
       "      <td>314891801</td>\n",
       "      <td>02e4ec13-75be-4b6f-8fde-cafe25a67488</td>\n",
       "      <td>2024-02-22</td>\n",
       "      <td>NaN</td>\n",
       "      <td>NaN</td>\n",
       "      <td>submitted_via_web</td>\n",
       "      <td>NaN</td>\n",
       "      <td>vBGakqMB4iDT55Be34kbSN</td>\n",
       "      <td>NaN</td>\n",
       "      <td>349</td>\n",
       "    </tr>\n",
       "    <tr>\n",
       "      <th>4</th>\n",
       "      <td>1</td>\n",
       "      <td>2024-02-22</td>\n",
       "      <td>1</td>\n",
       "      <td>10191</td>\n",
       "      <td>1</td>\n",
       "      <td>1976-05-25</td>\n",
       "      <td>Male</td>\n",
       "      <td>Diploma/HND</td>\n",
       "      <td>2002-09-30</td>\n",
       "      <td>Yes</td>\n",
       "      <td>...</td>\n",
       "      <td>314892194</td>\n",
       "      <td>dbe62362-5aa2-4525-85de-6632ed188c45</td>\n",
       "      <td>2024-02-22</td>\n",
       "      <td>NaN</td>\n",
       "      <td>NaN</td>\n",
       "      <td>submitted_via_web</td>\n",
       "      <td>NaN</td>\n",
       "      <td>vBGakqMB4iDT55Be34kbSN</td>\n",
       "      <td>NaN</td>\n",
       "      <td>350</td>\n",
       "    </tr>\n",
       "  </tbody>\n",
       "</table>\n",
       "<p>5 rows × 52 columns</p>\n",
       "</div>"
      ],
      "text/plain": [
       "   Interviewer number        Date  Serial number Facility MFL Code  \\\n",
       "0                   1  2024-02-22              1             11152   \n",
       "1                   1  2024-02-22              1             23409   \n",
       "2                   1  2024-02-22              1             23212   \n",
       "3                   1  2024-02-22              1             23408   \n",
       "4                   1  2024-02-22              1             10191   \n",
       "\n",
       "   Health care worker number 1. What is your year of Birth?  \\\n",
       "0                          1                     1995-01-21   \n",
       "1                          1                     1992-04-28   \n",
       "2                          1                     1996-02-22   \n",
       "3                          1                     1996-07-07   \n",
       "4                          1                     1976-05-25   \n",
       "\n",
       "  2. What is you sex? HighestLevelTraining YearQualified  \\\n",
       "0              Female          Diploma/HND    2017-04-30   \n",
       "1                Male          Diploma/HND    2015-08-28   \n",
       "2                Male          Diploma/HND    2014-02-22   \n",
       "3                Male          Diploma/HND    2019-12-05   \n",
       "4                Male          Diploma/HND    2002-09-30   \n",
       "\n",
       "  4. (a) Have you received any training in oral health (seminar, workshop, webinar)?  \\\n",
       "0                                                Yes                                   \n",
       "1                                                Yes                                   \n",
       "2                                                Yes                                   \n",
       "3                                                Yes                                   \n",
       "4                                                Yes                                   \n",
       "\n",
       "   ...        _id                                 _uuid  _submission_time  \\\n",
       "0  ...  314878194  a06520c7-5979-42de-9dc6-7acbdfe4ee0b        2024-02-22   \n",
       "1  ...  314887934  8411bfca-05a7-4903-a5fc-01b29bfa6452        2024-02-22   \n",
       "2  ...  314891683  172d3512-82a2-4eac-859c-65db8a0c0fb0        2024-02-22   \n",
       "3  ...  314891801  02e4ec13-75be-4b6f-8fde-cafe25a67488        2024-02-22   \n",
       "4  ...  314892194  dbe62362-5aa2-4525-85de-6632ed188c45        2024-02-22   \n",
       "\n",
       "   _validation_status _notes            _status  _submitted_by  \\\n",
       "0                 NaN    NaN  submitted_via_web            NaN   \n",
       "1                 NaN    NaN  submitted_via_web            NaN   \n",
       "2                 NaN    NaN  submitted_via_web            NaN   \n",
       "3                 NaN    NaN  submitted_via_web            NaN   \n",
       "4                 NaN    NaN  submitted_via_web            NaN   \n",
       "\n",
       "              __version__ _tags _index  \n",
       "0  vBGakqMB4iDT55Be34kbSN   NaN    346  \n",
       "1  vBGakqMB4iDT55Be34kbSN   NaN    347  \n",
       "2  vBGakqMB4iDT55Be34kbSN   NaN    348  \n",
       "3  vBGakqMB4iDT55Be34kbSN   NaN    349  \n",
       "4  vBGakqMB4iDT55Be34kbSN   NaN    350  \n",
       "\n",
       "[5 rows x 52 columns]"
      ]
     },
     "execution_count": 13,
     "metadata": {},
     "output_type": "execute_result"
    }
   ],
   "source": [
    "df.head()"
   ]
  },
  {
   "cell_type": "code",
   "execution_count": 14,
   "metadata": {},
   "outputs": [
    {
     "ename": "AttributeError",
     "evalue": "'Styler' object has no attribute 'hide_index'",
     "output_type": "error",
     "traceback": [
      "\u001b[1;31m---------------------------------------------------------------------------\u001b[0m",
      "\u001b[1;31mAttributeError\u001b[0m                            Traceback (most recent call last)",
      "Cell \u001b[1;32mIn[14], line 2\u001b[0m\n\u001b[0;32m      1\u001b[0m format_dictionary \u001b[38;5;241m=\u001b[39m {\u001b[38;5;124m'\u001b[39m\u001b[38;5;124mYearQualified\u001b[39m\u001b[38;5;124m'\u001b[39m:\u001b[38;5;124m'\u001b[39m\u001b[38;5;124m{\u001b[39m\u001b[38;5;124m:\u001b[39m\u001b[38;5;124m%\u001b[39m\u001b[38;5;124mm-\u001b[39m\u001b[38;5;124m%\u001b[39m\u001b[38;5;124mY}\u001b[39m\u001b[38;5;124m'\u001b[39m}\n\u001b[1;32m----> 2\u001b[0m \u001b[43mdf\u001b[49m\u001b[38;5;241;43m.\u001b[39;49m\u001b[43mstyle\u001b[49m\u001b[38;5;241;43m.\u001b[39;49m\u001b[43mformat\u001b[49m\u001b[43m(\u001b[49m\u001b[43mformat_dictionary\u001b[49m\u001b[43m)\u001b[49m\u001b[38;5;241;43m.\u001b[39;49m\u001b[43mhide_index\u001b[49m()\n",
      "\u001b[1;31mAttributeError\u001b[0m: 'Styler' object has no attribute 'hide_index'"
     ]
    }
   ],
   "source": [
    "format_dictionary = {'YearQualified':'{:%m-%Y}'}\n",
    "df.style.format(format_dictionary).hide_index()"
   ]
  },
  {
   "cell_type": "code",
   "execution_count": null,
   "metadata": {},
   "outputs": [
    {
     "name": "stdout",
     "output_type": "stream",
     "text": [
      "YearQualified         1988-01-01  1990-04-30  1992-12-01  1993-02-22  \\\n",
      "HighestLevelTraining                                                   \n",
      "Bachelors                      0           0           0           0   \n",
      "Certificate                    0           1           1           1   \n",
      "Diploma/HND                    1           0           0           0   \n",
      "\n",
      "YearQualified         1993-02-28  1994-03-22  1995-02-28  2002-02-22  \\\n",
      "HighestLevelTraining                                                   \n",
      "Bachelors                      0           0           1           0   \n",
      "Certificate                    1           1           0           0   \n",
      "Diploma/HND                    0           0           1           1   \n",
      "\n",
      "YearQualified         2002-09-30  2004-02-29  ...  2019-02-23  2019-02-28  \\\n",
      "HighestLevelTraining                          ...                           \n",
      "Bachelors                      0           0  ...           0           0   \n",
      "Certificate                    0           1  ...           0           0   \n",
      "Diploma/HND                    2           0  ...           1           1   \n",
      "\n",
      "YearQualified         2019-12-04  2019-12-05  2020-08-14  2022-11-16  \\\n",
      "HighestLevelTraining                                                   \n",
      "Bachelors                      0           0           1           0   \n",
      "Certificate                    0           0           0           0   \n",
      "Diploma/HND                    1           3           0           1   \n",
      "\n",
      "YearQualified         2023-11-06  2024-02-13  2024-02-29  2024-03-01  \n",
      "HighestLevelTraining                                                  \n",
      "Bachelors                      0           0           0           0  \n",
      "Certificate                    0           0           0           0  \n",
      "Diploma/HND                    1           1           2           1  \n",
      "\n",
      "[3 rows x 60 columns]\n"
     ]
    }
   ],
   "source": [
    "# cross tabulation by highest level of training and year of qualification\n",
    "\n",
    "df1 = pd.crosstab(df['HighestLevelTraining'], df['YearQualified'])\n",
    "print(df1)\n",
    "\n"
   ]
  },
  {
   "cell_type": "code",
   "execution_count": null,
   "metadata": {},
   "outputs": [
    {
     "data": {
      "text/plain": [
       "4. (a) Have you received any training in oral health (seminar, workshop, webinar)?\n",
       "Yes    73\n",
       "Name: count, dtype: int64"
      ]
     },
     "execution_count": 65,
     "metadata": {},
     "output_type": "execute_result"
    }
   ],
   "source": [
    "# 4. (a) Have you received any training in oral health (seminar, workshop, webinar)?\n",
    "df['4. (a) Have you received any training in oral health (seminar, workshop, webinar)?'].value_counts()"
   ]
  },
  {
   "cell_type": "code",
   "execution_count": null,
   "metadata": {},
   "outputs": [],
   "source": [
    "# (b) When (year) was the last training you received?"
   ]
  },
  {
   "cell_type": "code",
   "execution_count": null,
   "metadata": {},
   "outputs": [
    {
     "data": {
      "text/plain": [
       "47"
      ]
     },
     "execution_count": 70,
     "metadata": {},
     "output_type": "execute_result"
    }
   ],
   "source": [
    "# (c) What topic(s) were covered in the training?\n",
    "df['(c) What topic(s) were covered in the training?'].nunique()\n",
    "#df['(c) What topic(s) were covered in the training?'].value_counts()\n"
   ]
  },
  {
   "cell_type": "code",
   "execution_count": null,
   "metadata": {},
   "outputs": [
    {
     "data": {
      "text/plain": [
       "5. What is the expected eruption age for first tooth in children?\n",
       "5-6 Months    63\n",
       "2-3 Months     6\n",
       "12 Months      4\n",
       "Name: count, dtype: int64"
      ]
     },
     "execution_count": 71,
     "metadata": {},
     "output_type": "execute_result"
    }
   ],
   "source": [
    "# 5. What is the expected eruption age for first tooth in children?\n",
    "df['5. What is the expected eruption age for first tooth in children?'].value_counts()"
   ]
  },
  {
   "cell_type": "code",
   "execution_count": null,
   "metadata": {},
   "outputs": [
    {
     "data": {
      "text/plain": [
       "7. How many deciduous teeth are there in total?\n",
       "20    61\n",
       "24     7\n",
       "10     3\n",
       "32     2\n",
       "Name: count, dtype: int64"
      ]
     },
     "execution_count": 73,
     "metadata": {},
     "output_type": "execute_result"
    }
   ],
   "source": [
    "df['7. How many deciduous teeth are there in total?'].value_counts()"
   ]
  },
  {
   "cell_type": "code",
   "execution_count": null,
   "metadata": {},
   "outputs": [
    {
     "data": {
      "text/plain": [
       "8. When should one start cleaning a child’s teeth?\n",
       "When first deciduous teeth erupt           61\n",
       "When child is weaned                        9\n",
       "At the age of 2 years                       2\n",
       "After eruption of the all primary teeth     1\n",
       "Name: count, dtype: int64"
      ]
     },
     "execution_count": 74,
     "metadata": {},
     "output_type": "execute_result"
    }
   ],
   "source": [
    "df['8. When should one start cleaning a child’s teeth?'].value_counts()"
   ]
  },
  {
   "cell_type": "code",
   "execution_count": null,
   "metadata": {},
   "outputs": [
    {
     "data": {
      "text/plain": [
       "9. What is the best suited to clean children teeth?\n",
       "Soft tooth brush       58\n",
       "Soft piece of cloth    15\n",
       "Name: count, dtype: int64"
      ]
     },
     "execution_count": 75,
     "metadata": {},
     "output_type": "execute_result"
    }
   ],
   "source": [
    "df['9. What is the best suited to clean children teeth?'].value_counts()"
   ]
  },
  {
   "cell_type": "code",
   "execution_count": null,
   "metadata": {},
   "outputs": [
    {
     "data": {
      "text/plain": [
       "10. The following are risk factors for dental caries in children except?\n",
       "Extended breast feeding       55\n",
       "Poor maternal oral hygiene    11\n",
       "Lack of tooth brushing         6\n",
       "Bottle feeding                 1\n",
       "Name: count, dtype: int64"
      ]
     },
     "execution_count": 76,
     "metadata": {},
     "output_type": "execute_result"
    }
   ],
   "source": [
    "df['10. The following are risk factors for dental caries in children except?'].value_counts()"
   ]
  },
  {
   "cell_type": "code",
   "execution_count": null,
   "metadata": {},
   "outputs": [
    {
     "data": {
      "text/plain": [
       "11. The following are indicators of dental decay EXCEPT?\n",
       "Yellow discoloration    38\n",
       "White spots on teeth    26\n",
       "Pain from teeth          6\n",
       "Cavity on teeth          3\n",
       "Name: count, dtype: int64"
      ]
     },
     "execution_count": 77,
     "metadata": {},
     "output_type": "execute_result"
    }
   ],
   "source": [
    "df['11. The following are indicators of dental decay EXCEPT?'].value_counts()"
   ]
  },
  {
   "cell_type": "code",
   "execution_count": null,
   "metadata": {},
   "outputs": [
    {
     "data": {
      "text/plain": [
       "12. The following can cause gum disease or mucosal lesions in childhood EXCEPT?\n",
       "Hormonal imbalance    42\n",
       "Erupting teeth        29\n",
       "Poor oral hygiene      2\n",
       "Name: count, dtype: int64"
      ]
     },
     "execution_count": 78,
     "metadata": {},
     "output_type": "execute_result"
    }
   ],
   "source": [
    "df['12. The following can cause gum disease or mucosal lesions in childhood EXCEPT?'].value_counts()"
   ]
  },
  {
   "cell_type": "code",
   "execution_count": null,
   "metadata": {},
   "outputs": [
    {
     "data": {
      "text/plain": [
       "13. Which of the following condition can manifest in the oral cavity?\n",
       "All the above    45\n",
       "HIV/AIDS         14\n",
       "Scurvy           12\n",
       "Measles           2\n",
       "Name: count, dtype: int64"
      ]
     },
     "execution_count": 79,
     "metadata": {},
     "output_type": "execute_result"
    }
   ],
   "source": [
    "df['13. Which of the following condition can manifest in the oral cavity?'].value_counts()"
   ]
  },
  {
   "cell_type": "code",
   "execution_count": null,
   "metadata": {},
   "outputs": [
    {
     "data": {
      "text/plain": [
       "14. Which of the following are manifestations of HIV/AIDS in the oral cavity?\n",
       "All the above        36\n",
       "Oral candidiasis     36\n",
       "Kaposi’s sarcoma.     1\n",
       "Name: count, dtype: int64"
      ]
     },
     "execution_count": 80,
     "metadata": {},
     "output_type": "execute_result"
    }
   ],
   "source": [
    "df['14. Which of the following are manifestations of HIV/AIDS in the oral cavity?'].value_counts()"
   ]
  },
  {
   "cell_type": "code",
   "execution_count": null,
   "metadata": {},
   "outputs": [
    {
     "data": {
      "text/plain": [
       "15. Which is the recommended toothpaste for children?\n",
       "Fluoridated toothpaste         54\n",
       "Reduced fluoride toothpaste    11\n",
       "Non- fluoridated toothpaste     8\n",
       "Name: count, dtype: int64"
      ]
     },
     "execution_count": 81,
     "metadata": {},
     "output_type": "execute_result"
    }
   ],
   "source": [
    "df['15. Which is the recommended toothpaste for children?'].value_counts()"
   ]
  },
  {
   "cell_type": "code",
   "execution_count": null,
   "metadata": {},
   "outputs": [
    {
     "data": {
      "text/plain": [
       "16. Which of following is NOT true about recording and reporting childhood dental disease?\n",
       "Only facilities with dental clinic should fill the dental workload in MOH 717    57\n",
       "Dental conditions should be captured in the outpatient register (MOH 204A)        7\n",
       "Monthly summaries of the dental diseases should be recorded in MOH 705B           5\n",
       "Dental services are captured in the mother child booklet                          4\n",
       "Name: count, dtype: int64"
      ]
     },
     "execution_count": 82,
     "metadata": {},
     "output_type": "execute_result"
    }
   ],
   "source": [
    "df['16. Which of following is NOT true about recording and reporting childhood dental disease?'].value_counts()"
   ]
  },
  {
   "cell_type": "code",
   "execution_count": null,
   "metadata": {},
   "outputs": [
    {
     "data": {
      "text/plain": [
       "17. Which of the following is TRUE about a tongue tie?\n",
       "Can self- relieve by the age of two years    38\n",
       "It is relieved at 6 weeks                    30\n",
       "Presents at six months                        4\n",
       "Can only be identified by the dentist         1\n",
       "Name: count, dtype: int64"
      ]
     },
     "execution_count": 83,
     "metadata": {},
     "output_type": "execute_result"
    }
   ],
   "source": [
    "df['17. Which of the following is TRUE about a tongue tie?'].value_counts()"
   ]
  },
  {
   "cell_type": "code",
   "execution_count": null,
   "metadata": {},
   "outputs": [
    {
     "data": {
      "text/plain": [
       "18. Harmful traditional practices include the following EXCEPT?\n",
       "Teeth filing                       35\n",
       "Application of topical fluoride    34\n",
       "Uvulectomy                          4\n",
       "Name: count, dtype: int64"
      ]
     },
     "execution_count": 84,
     "metadata": {},
     "output_type": "execute_result"
    }
   ],
   "source": [
    "df['18. Harmful traditional practices include the following EXCEPT?'].value_counts()"
   ]
  },
  {
   "cell_type": "code",
   "execution_count": null,
   "metadata": {},
   "outputs": [
    {
     "data": {
      "text/plain": [
       "19. What is the recommended frequency of tooth brushing for children?\n",
       "Twice a day    67\n",
       "Once a day      6\n",
       "Name: count, dtype: int64"
      ]
     },
     "execution_count": 85,
     "metadata": {},
     "output_type": "execute_result"
    }
   ],
   "source": [
    "df['19. What is the recommended frequency of tooth brushing for children?'].value_counts()"
   ]
  },
  {
   "cell_type": "code",
   "execution_count": null,
   "metadata": {},
   "outputs": [
    {
     "data": {
      "text/plain": [
       "20. When should a child be the first visiting to a dentist?\n",
       "By the age of 1 year       68\n",
       "By the age of two years     4\n",
       "By the age of 5 years       1\n",
       "Name: count, dtype: int64"
      ]
     },
     "execution_count": 86,
     "metadata": {},
     "output_type": "execute_result"
    }
   ],
   "source": [
    "df['20. When should a child be the first visiting to a dentist?'].value_counts()"
   ]
  },
  {
   "cell_type": "code",
   "execution_count": null,
   "metadata": {},
   "outputs": [
    {
     "data": {
      "text/plain": [
       "Series([], Name: count, dtype: int64)"
      ]
     },
     "execution_count": 87,
     "metadata": {},
     "output_type": "execute_result"
    }
   ],
   "source": [
    "df['How would you rate your ability to perform the following dental services? (please use a tick corresponding to the scale provided)'].value_counts()"
   ]
  },
  {
   "cell_type": "code",
   "execution_count": null,
   "metadata": {},
   "outputs": [
    {
     "data": {
      "text/plain": [
       "21. Provide oral health education to parents\n",
       "Very Adequate (Does not need assistance)    52\n",
       "Adequate (Requires some assistance)         21\n",
       "Name: count, dtype: int64"
      ]
     },
     "execution_count": 88,
     "metadata": {},
     "output_type": "execute_result"
    }
   ],
   "source": [
    "df['21. Provide oral health education to parents'].value_counts()"
   ]
  },
  {
   "cell_type": "code",
   "execution_count": null,
   "metadata": {},
   "outputs": [
    {
     "data": {
      "text/plain": [
       "22. Examine the child mouth\n",
       "Very Adequate (Does not need assistance)    51\n",
       "Adequate (Requires some assistance)         22\n",
       "Name: count, dtype: int64"
      ]
     },
     "execution_count": 89,
     "metadata": {},
     "output_type": "execute_result"
    }
   ],
   "source": [
    "df['22. Examine the child mouth'].value_counts()"
   ]
  },
  {
   "cell_type": "code",
   "execution_count": null,
   "metadata": {},
   "outputs": [
    {
     "data": {
      "text/plain": [
       "23. Identify dental caries in children\n",
       "Very Adequate (Does not need assistance)    53\n",
       "Adequate (Requires some assistance)         20\n",
       "Name: count, dtype: int64"
      ]
     },
     "execution_count": 90,
     "metadata": {},
     "output_type": "execute_result"
    }
   ],
   "source": [
    "df['23. Identify dental caries in children'].value_counts()"
   ]
  },
  {
   "cell_type": "code",
   "execution_count": null,
   "metadata": {},
   "outputs": [
    {
     "data": {
      "text/plain": [
       "24. Identify gum diseases in children\n",
       "Very Adequate (Does not need assistance)    48\n",
       "Adequate (Requires some assistance)         25\n",
       "Name: count, dtype: int64"
      ]
     },
     "execution_count": 91,
     "metadata": {},
     "output_type": "execute_result"
    }
   ],
   "source": [
    "df['24. Identify gum diseases in children'].value_counts()"
   ]
  },
  {
   "cell_type": "code",
   "execution_count": null,
   "metadata": {},
   "outputs": [
    {
     "data": {
      "text/plain": [
       "25. Identify oral lesions in children\n",
       "Very Adequate (Does not need assistance)    56\n",
       "Adequate (Requires some assistance)         17\n",
       "Name: count, dtype: int64"
      ]
     },
     "execution_count": 94,
     "metadata": {},
     "output_type": "execute_result"
    }
   ],
   "source": [
    "df['25. Identify oral lesions in children'].value_counts()"
   ]
  },
  {
   "cell_type": "code",
   "execution_count": null,
   "metadata": {},
   "outputs": [
    {
     "data": {
      "text/plain": [
       "26. Management of oral pain (emergency) in children\n",
       "Very Adequate (Does not need assistance)    43\n",
       "Adequate (Requires some assistance)         29\n",
       "Name: count, dtype: int64"
      ]
     },
     "execution_count": 95,
     "metadata": {},
     "output_type": "execute_result"
    }
   ],
   "source": [
    "df['26. Management of oral pain (emergency) in children'].value_counts()"
   ]
  },
  {
   "cell_type": "code",
   "execution_count": null,
   "metadata": {},
   "outputs": [
    {
     "data": {
      "text/plain": [
       "27. Referral children for dental services\n",
       "Very Adequate (Does not need assistance)    53\n",
       "Adequate (Requires some assistance)         20\n",
       "Name: count, dtype: int64"
      ]
     },
     "execution_count": 96,
     "metadata": {},
     "output_type": "execute_result"
    }
   ],
   "source": [
    "df['27. Referral children for dental services'].value_counts()"
   ]
  },
  {
   "cell_type": "code",
   "execution_count": null,
   "metadata": {},
   "outputs": [
    {
     "data": {
      "text/plain": [
       "28. Capture dental service in the daily activity register\n",
       "Very Adequate (Does not need assistance)    50\n",
       "Adequate (Requires some assistance)         23\n",
       "Name: count, dtype: int64"
      ]
     },
     "execution_count": 97,
     "metadata": {},
     "output_type": "execute_result"
    }
   ],
   "source": [
    "df['28. Capture dental service in the daily activity register'].value_counts()"
   ]
  },
  {
   "cell_type": "code",
   "execution_count": null,
   "metadata": {},
   "outputs": [
    {
     "data": {
      "text/plain": [
       "29. Report dental service/condition in the reporting tool\n",
       "Very Adequate (Does not need assistance)    52\n",
       "Adequate (Requires some assistance)         21\n",
       "Name: count, dtype: int64"
      ]
     },
     "execution_count": 98,
     "metadata": {},
     "output_type": "execute_result"
    }
   ],
   "source": [
    "df['29. Report dental service/condition in the reporting tool'].value_counts()"
   ]
  },
  {
   "cell_type": "code",
   "execution_count": null,
   "metadata": {},
   "outputs": [
    {
     "data": {
      "text/plain": [
       "30. Record child oral health information in the mother child booklet\n",
       "Very Adequate (Does not need assistance)    63\n",
       "Adequate (Requires some assistance)          8\n",
       "Inadequate (Will not attempt at all)         1\n",
       "Name: count, dtype: int64"
      ]
     },
     "execution_count": 99,
     "metadata": {},
     "output_type": "execute_result"
    }
   ],
   "source": [
    "df['30. Record child oral health information in the mother child booklet'].value_counts()"
   ]
  }
 ],
 "metadata": {
  "kernelspec": {
   "display_name": "Python 3",
   "language": "python",
   "name": "python3"
  },
  "language_info": {
   "codemirror_mode": {
    "name": "ipython",
    "version": 3
   },
   "file_extension": ".py",
   "mimetype": "text/x-python",
   "name": "python",
   "nbconvert_exporter": "python",
   "pygments_lexer": "ipython3",
   "version": "3.12.0"
  }
 },
 "nbformat": 4,
 "nbformat_minor": 2
}
